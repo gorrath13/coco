{
 "cells": [
  {
   "cell_type": "markdown",
   "metadata": {},
   "source": [
    "## Задание 1"
   ]
  },
  {
   "cell_type": "markdown",
   "metadata": {},
   "source": [
    "Дан список вида:"
   ]
  },
  {
   "cell_type": "code",
   "execution_count": 109,
   "metadata": {},
   "outputs": [
    {
     "data": {
      "text/plain": [
       "103"
      ]
     },
     "execution_count": 109,
     "metadata": {},
     "output_type": "execute_result"
    }
   ],
   "source": [
    "data = [\n",
    "    [13, 25, 23, 34],\n",
    "    [45, 32, 44, 47],\n",
    "    [12, 33, 23, 95],\n",
    "    [13, 53, 34, 35]\n",
    "]\n",
    "def funk(funker):  \n",
    "    a=0\n",
    "    i=-1\n",
    "    k=-1\n",
    "    for element in data:\n",
    "        i=i+1\n",
    "        k=k+1\n",
    "        a=a+funker[i][k]\n",
    "    return(a)\n",
    "funk(data)"
   ]
  },
  {
   "cell_type": "markdown",
   "metadata": {},
   "source": [
    "Напишите функцию, которая возвращает сумму элементов на диагонали. Т. е. 13+32+23+35."
   ]
  },
  {
   "cell_type": "markdown",
   "metadata": {},
   "source": [
    "## Задание 2"
   ]
  },
  {
   "cell_type": "markdown",
   "metadata": {},
   "source": [
    "Дан список чисел, часть из которых имеют строковый тип или содержат буквы. Напишите функцию, которая возвращает сумму квадратов элементов, которые могут быть числами."
   ]
  },
  {
   "cell_type": "code",
   "execution_count": 3,
   "metadata": {},
   "outputs": [
    {
     "name": "stdout",
     "output_type": "stream",
     "text": [
      "1\n",
      "26\n",
      "26\n",
      "426\n",
      "430\n"
     ]
    }
   ],
   "source": [
    "data = [1, '5', 'abc', 20, '2']\n",
    "def coco(nut):\n",
    "    i=-1\n",
    "    a=0\n",
    "    for elem in nut:\n",
    "        i=i+1\n",
    "        if str(nut[i]).isdigit() == 1:\n",
    "            a=a+(int(nut[i]) ** 2)\n",
    "        print(a)\n",
    "coco(data)"
   ]
  },
  {
   "cell_type": "markdown",
   "metadata": {},
   "source": [
    "## Задание 3"
   ]
  },
  {
   "cell_type": "code",
   "execution_count": 112,
   "metadata": {},
   "outputs": [
    {
     "name": "stdout",
     "output_type": "stream",
     "text": [
      "13\n",
      "1 1 2 3 5 8 13 21 34 55 89 144 233 607 принт\n",
      "\n"
     ]
    }
   ],
   "source": [
    "def fun1():\n",
    "\n",
    "    a=0\n",
    "    fib1 = fib2 = 1\n",
    " \n",
    "    n = int(input())\n",
    " \n",
    "    if n < 2:\n",
    "        quit()\n",
    " \n",
    "    print(fib1, end=' ')\n",
    "    print(fib2, end=' ')\n",
    "    for i in range(2, n):\n",
    "        fib1, fib2 = fib2, fib1 + fib2\n",
    "        print(fib2, end=' ')\n",
    "        a=a+fib2\n",
    "    print(a,'принт-проверка')\n",
    " \n",
    "    print()\n",
    "fun1()"
   ]
  },
  {
   "cell_type": "markdown",
   "metadata": {},
   "source": [
    "## Задание 4"
   ]
  },
  {
   "cell_type": "markdown",
   "metadata": {},
   "source": [
    "Дан набор данных об обучении студентов на курсе программирования, который содержит: \n",
    "1) имя\n",
    "2) фамилию \n",
    "3) пол \n",
    "4) наличие у студента опыта в программировании \n",
    "5) набор оценок за домашние работы \n",
    "6) оценку за итоговую работу.\n",
    "\n",
    "Напишите программу, которая будет принимать команду от пользователя и возвращать соотвествующий результат.\n",
    "Список команд: \n",
    "1 - вывести на экран среднюю оценку за все ДЗ по группе и вывести на экран среднюю оценку за экзамен по группе;\n",
    "2 - вывести среднюю оценку за ДЗ и за экзамен по группе в разрезе пола студентов\n",
    "3 - вывести среднюю оценку за ДЗ и за экзамен в разрезе наличия опыта в программировании у студентов.\n",
    "\n",
    "Прогрмма должна быть полностью декомпозирована на функции (кроме объявления функций и вызова итоговой функции в реализации ничего быть не должно)."
   ]
  },
  {
   "cell_type": "code",
   "execution_count": 35,
   "metadata": {},
   "outputs": [],
   "source": [
    "sl = [\n",
    "    {'name': 'Василий', 'surname': 'Теркин', 'sex': 'м', 'program_exp': True, 'grade': [8, 8, 9, 10, 9], 'exam': 9},\n",
    "    {'name': 'Мария', 'surname': 'Павлова', 'sex': 'ж', 'program_exp': True, 'grade': [7, 8, 9, 7, 9], 'exam': 8},\n",
    "    {'name': 'Ирина', 'surname': 'Андреева', 'sex': 'ж', 'program_exp': True, 'grade': [10, 9, 8, 10, 10], 'exam': 10},\n",
    "    {'name': 'Татьяна', 'surname': 'Сидорова', 'sex': 'ж', 'program_exp': True, 'grade': [7, 8, 8, 9, 8], 'exam': 8},\n",
    "    {'name': 'Иван', 'surname': 'Васильев', 'sex': 'м', 'program_exp': True, 'grade': [9, 8, 9, 6, 9], 'exam': 10},\n",
    "    {'name': 'Роман', 'surname': 'Золотарев', 'sex': 'м', 'program_exp': False, 'grade': [8, 9, 9, 6, 9], 'exam': 10}\n",
    "]"
   ]
  },
  {
   "cell_type": "code",
   "execution_count": 56,
   "metadata": {},
   "outputs": [
    {
     "name": "stdout",
     "output_type": "stream",
     "text": [
      "4\n",
      "Средний бал за ДЗ у опытных программистов\n",
      "8.48\n",
      "Средний бал за ДЗ у не опытных программистов\n",
      "8.2\n",
      "Средний бал за экзамен у опытных программистов\n",
      "9.0\n",
      "Средний бал за экзамен у не опытных программистов\n",
      "10.0\n"
     ]
    }
   ],
   "source": [
    "def grade_avg(mass):\n",
    "    sum_elem = []\n",
    "    main_sum_avg_grade = 0\n",
    "    x = []\n",
    "    a = []\n",
    "    for elem in mass:\n",
    "        x = elem.get('grade')\n",
    "        a = (sum(x)) / (len(x))\n",
    "        sum_elem.append(a)\n",
    "    main_sum_avg_grade = sum(sum_elem)/len(sum_elem)\n",
    "    print(main_sum_avg_grade)\n",
    "\n",
    "def exam_avg(mass):\n",
    "    x = []\n",
    "    a = 0\n",
    "    for elem in mass:\n",
    "        x.append(elem.get('exam'))\n",
    "        a = sum(x)/len(x)\n",
    "    print(a)\n",
    "\n",
    "    \n",
    "def sex_avg(mass):     \n",
    "    b = []\n",
    "    x = []\n",
    "    y = []\n",
    "    for elem in mass:\n",
    "        b = elem.get('sex')\n",
    "        if b == 'м':\n",
    "            x.append(elem)\n",
    "       # print('мужик')\n",
    "        else: y.append(elem)\n",
    "        \n",
    "    print('Средний бал за ДЗ у мужчин')\n",
    "    grade_avg(x)\n",
    "    print('Средний бал за ДЗ у женщин')\n",
    "    grade_avg(y)\n",
    "    print('Средний бал за экзамен у мужчин')\n",
    "    exam_avg(x)\n",
    "    print('Средний бал за экзамен у женщин')\n",
    "    exam_avg(y)\n",
    "\n",
    "def exp_avg(mass):     \n",
    "    a = []\n",
    "    x = []\n",
    "    y = []\n",
    "    for elem in mass:\n",
    "        a = elem.get('program_exp')\n",
    "        if a:\n",
    "            x.append(elem)\n",
    "        else: \n",
    "            y.append(elem)\n",
    "        \n",
    "    print('Средний бал за ДЗ у опытных программистов')\n",
    "    grade_avg(x)\n",
    "    print('Средний бал за ДЗ у не опытных программистов')\n",
    "    grade_avg(y)\n",
    "    print('Средний бал за экзамен у опытных программистов')\n",
    "    exam_avg(x)\n",
    "    print('Средний бал за экзамен у не опытных программистов')\n",
    "    exam_avg(y)\n",
    "\n",
    "\n",
    "user_input = input()\n",
    "if user_input == '1':\n",
    "    grade_avg(sl)\n",
    "if user_input == '2':\n",
    "    exam_avg(sl)\n",
    "if user_input == '3':\n",
    "    sex_avg(sl)\n",
    "if user_input == '4':\n",
    "    exp_avg(sl)"
   ]
  }
 ],
 "metadata": {
  "kernelspec": {
   "display_name": "Python 3",
   "language": "python",
   "name": "python3"
  },
  "language_info": {
   "codemirror_mode": {
    "name": "ipython",
    "version": 3
   },
   "file_extension": ".py",
   "mimetype": "text/x-python",
   "name": "python",
   "nbconvert_exporter": "python",
   "pygments_lexer": "ipython3",
   "version": "3.7.3"
  }
 },
 "nbformat": 4,
 "nbformat_minor": 2
}
