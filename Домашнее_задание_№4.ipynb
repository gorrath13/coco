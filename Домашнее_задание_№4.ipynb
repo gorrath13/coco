{
 "cells": [
  {
   "cell_type": "code",
   "execution_count": 10,
   "metadata": {},
   "outputs": [
    {
     "name": "stdout",
     "output_type": "stream",
     "text": [
      "Имя:  Максим , Стаж: 1 , Уровень:  0 Статус:  Работник\n",
      "Максим , Повышение рейтинга 1 Работник на повышении\n"
     ]
    }
   ],
   "source": [
    "class Employee:\n",
    "    def __init__(self, name = 'name', seniority = 0, grade = 0,status ='Работник'):\n",
    "        self.name = name\n",
    "        self.seniority = seniority\n",
    "        self.status = status\n",
    "        self.grade = 0\n",
    "    \n",
    "    def upgrade(self):\n",
    "         self.grade += 1\n",
    "         self.status = 'Работник на повышении'\n",
    "         print(self.name,', Повышение рейтинга',self.grade, self.status)\n",
    "    \n",
    "    def downgrade(self):\n",
    "        if self.grade >0:\n",
    "            self.grade -= 1\n",
    "            self.status = 'Работник на понижении'\n",
    "            print(self.name,', Понижение рейтинга',self.grade, self.status)\n",
    "        else:\n",
    "            print('Рейтинг = 0, понижение невозможно')\n",
    "            \n",
    "    def fulldowngrade(self):\n",
    "         self.grade = 0\n",
    "         self.status = 'Работник на понижении'\n",
    "         print('Рейтинг = 0, Произведено полное понижение')\n",
    "         print('Имя: ',self.name,',','Стаж:',self.seniority,',','Уровень: ',self.grade,'Статус: ',self.status)\n",
    "        \n",
    "    def publish(self):\n",
    "        print('Имя: ',self.name,',','Стаж:',self.seniority,',','Уровень: ',self.grade,'Статус: ',self.status)\n",
    "\n",
    "Max = Employee('Максим',1,0)\n",
    "Max.publish()\n",
    "Max.upgrade()"
   ]
  },
  {
   "cell_type": "code",
   "execution_count": 29,
   "metadata": {},
   "outputs": [
    {
     "name": "stdout",
     "output_type": "stream",
     "text": [
      "Имя:  Кони , Стаж: 1 , Уровень:  0 Статус:  Работник\n",
      "Имя:  Кони , Стаж: 2 , Уровень:  0 Статус:  Работник\n",
      "Имя:  Кони , Стаж: 3 , Уровень:  0 Статус:  Работник\n",
      "Имя:  Кони , Стаж: 4 , Уровень:  0 Статус:  Работник\n",
      "Кони , Повышение рейтинга 1 Работник на повышении\n",
      "Имя:  Кони , Стаж: 5 , Уровень:  1 Статус:  Работник на повышении\n",
      "Имя:  Кони , Стаж: 6 , Уровень:  1 Статус:  Работник на повышении\n",
      "Имя:  Кони , Стаж: 7 , Уровень:  1 Статус:  Работник на повышении\n",
      "Имя:  Кони , Стаж: 8 , Уровень:  1 Статус:  Работник на повышении\n",
      "Имя:  Кони , Стаж: 9 , Уровень:  1 Статус:  Работник на повышении\n",
      "Кони , Повышение рейтинга 2 Работник на повышении\n",
      "Имя:  Кони , Стаж: 10 , Уровень:  2 Статус:  Работник на повышении\n",
      "Имя:  Кони , Стаж: 11 , Уровень:  2 Статус:  Работник на повышении\n",
      "Имя:  Кони , Стаж: 12 , Уровень:  2 Статус:  Работник на повышении\n",
      "Имя:  Кони , Стаж: 13 , Уровень:  2 Статус:  Работник на повышении\n",
      "Имя:  Кони , Стаж: 14 , Уровень:  2 Статус:  Работник на повышении\n",
      "Кони , Повышение рейтинга 3 Работник на повышении\n",
      "Имя:  Кони , Стаж: 15 , Уровень:  3 Статус:  Работник на повышении\n",
      "Имя:  Кони , Стаж: 16 , Уровень:  3 Статус:  Работник на повышении\n",
      "Имя:  Кони , Стаж: 17 , Уровень:  3 Статус:  Работник на повышении\n",
      "Имя:  Кони , Стаж: 18 , Уровень:  3 Статус:  Работник на повышении\n",
      "Имя:  Кони , Стаж: 19 , Уровень:  3 Статус:  Работник на повышении\n",
      "Кони , Повышение рейтинга 4 Работник на повышении\n",
      "Имя:  Кони , Стаж: 20 , Уровень:  4 Статус:  Работник на повышении\n",
      "Имя:  Кони , Стаж: 21 , Уровень:  4 Статус:  Работник на повышении\n",
      "Имя:  Кони , Стаж: 22 , Уровень:  4 Статус:  Работник на повышении\n"
     ]
    }
   ],
   "source": [
    "class Developer(Employee):\n",
    "    def __init__(self, name, seniority,status):\n",
    "        super().__init__(name, seniority,status)\n",
    "    \n",
    "    def upgrade_check(self):\n",
    "        self.seniority += 1\n",
    "        if self.seniority % 5 == 0:\n",
    "            self.upgrade()\n",
    "        return self.publish()\n",
    "    \n",
    "Cony = Developer('Кони',1,0)\n",
    "Cony.publish()\n",
    "Cony.upgrade_check()\n",
    "\n",
    "for elem in range(20):\n",
    "    Cony.upgrade_check()\n"
   ]
  },
  {
   "cell_type": "code",
   "execution_count": 56,
   "metadata": {},
   "outputs": [
    {
     "name": "stdout",
     "output_type": "stream",
     "text": [
      "Имя:  Елена , Стаж: 1 , Уровень:  0 Статус:  2 Награды: 2\n",
      "Имя:  Елена , Стаж: 3 , Уровень:  0 Статус:  2 Награды: 2\n",
      "Елена , Повышение рейтинга 1 Работник на повышении\n",
      "Имя:  Елена , Стаж: 5 , Уровень:  1 Статус:  Работник на повышении Награды: 2\n",
      "Имя:  Елена , Стаж: 7 , Уровень:  1 Статус:  Работник на повышении Награды: 2\n",
      "Имя:  Елена , Стаж: 9 , Уровень:  1 Статус:  Работник на повышении Награды: 2\n",
      "Имя:  Елена , Стаж: 11 , Уровень:  1 Статус:  Работник на повышении Награды: 2\n",
      "Имя:  Елена , Стаж: 13 , Уровень:  1 Статус:  Работник на повышении Награды: 2\n",
      "Елена , Повышение рейтинга 2 Работник на повышении\n",
      "Имя:  Елена , Стаж: 15 , Уровень:  2 Статус:  Работник на повышении Награды: 2\n",
      "Имя:  Елена , Стаж: 17 , Уровень:  2 Статус:  Работник на повышении Награды: 2\n",
      "Имя:  Елена , Стаж: 19 , Уровень:  2 Статус:  Работник на повышении Награды: 2\n",
      "Имя:  Елена , Стаж: 21 , Уровень:  2 Статус:  Работник на повышении Награды: 2\n",
      "Имя:  Елена , Стаж: 23 , Уровень:  2 Статус:  Работник на повышении Награды: 2\n",
      "Елена , Повышение рейтинга 3 Работник на повышении\n",
      "Имя:  Елена , Стаж: 25 , Уровень:  3 Статус:  Работник на повышении Награды: 2\n",
      "Имя:  Елена , Стаж: 27 , Уровень:  3 Статус:  Работник на повышении Награды: 2\n",
      "Имя:  Елена , Стаж: 29 , Уровень:  3 Статус:  Работник на повышении Награды: 2\n",
      "Имя:  Елена , Стаж: 31 , Уровень:  3 Статус:  Работник на повышении Награды: 2\n",
      "Имя:  Елена , Стаж: 33 , Уровень:  3 Статус:  Работник на повышении Награды: 2\n",
      "Елена , Повышение рейтинга 4 Работник на повышении\n",
      "Имя:  Елена , Стаж: 35 , Уровень:  4 Статус:  Работник на повышении Награды: 2\n",
      "Имя:  Елена , Стаж: 37 , Уровень:  4 Статус:  Работник на повышении Награды: 2\n",
      "Имя:  Елена , Стаж: 39 , Уровень:  4 Статус:  Работник на повышении Награды: 2\n",
      "Имя:  Елена , Стаж: 41 , Уровень:  4 Статус:  Работник на повышении Награды: 2\n"
     ]
    }
   ],
   "source": [
    "class Designer(Employee):\n",
    "    def __init__(self, name, seniority,status,awards):\n",
    "        super().__init__(name, seniority,status,awards)\n",
    "        self.awards = awards\n",
    "    \n",
    "    def publish(self):\n",
    "        print('Имя: ',self.name,',','Стаж:',self.seniority,',','Уровень: ',self.grade,'Статус: ',self.status, 'Награды:', self.awards)    \n",
    "  \n",
    "    def designer_upgrade_check(self):\n",
    "        if self.awards > 0:\n",
    "            self.seniority += 2\n",
    "            if self.seniority % 5 == 0:\n",
    "                self.upgrade()\n",
    "            return self.publish()\n",
    "        else:\n",
    "            self.seniority += 2\n",
    "            if self.seniority % 5 == 0:\n",
    "                self.upgrade()\n",
    "            return self.publish() \n",
    "      \n",
    "Elena = Designer('Елена',1,0,2)\n",
    "Elena.publish()\n",
    "for elem in range(20):\n",
    "    Elena.designer_upgrade_check()"
   ]
  },
  {
   "cell_type": "code",
   "execution_count": 58,
   "metadata": {},
   "outputs": [],
   "source": [
    "import requests"
   ]
  },
  {
   "cell_type": "code",
   "execution_count": 103,
   "metadata": {},
   "outputs": [],
   "source": [
    "class Rate:\n",
    "    def __init__(self, format_='value'):\n",
    "        self.format = format_\n",
    "    \n",
    "    def exchange_rates(self):\n",
    "        \"\"\"\n",
    "        Возвращает ответ сервиса с информацией о валютах в виде:\n",
    "        \n",
    "        {\n",
    "            'AMD': {\n",
    "                'CharCode': 'AMD',\n",
    "                'ID': 'R01060',\n",
    "                'Name': 'Армянских драмов',\n",
    "                'Nominal': 100,\n",
    "                'NumCode': '051',\n",
    "                'Previous': 14.103,\n",
    "                'Value': 14.0879\n",
    "                },\n",
    "            ...\n",
    "        }\n",
    "        \"\"\"\n",
    "        r = requests.get('https://www.cbr-xml-daily.ru/daily_json.js')\n",
    "        return r.json()['Valute']\n",
    "    \n",
    "    def make_format(self, currency):\n",
    "        \"\"\"\n",
    "        Возвращает информацию о валюте currency в двух вариантах:\n",
    "        - полная информация о валюте при self.format = 'full':\n",
    "        Rate('full').make_format('EUR')\n",
    "        {\n",
    "            'CharCode': 'EUR',\n",
    "            'ID': 'R01239',\n",
    "            'Name': 'Евро',\n",
    "            'Nominal': 1,\n",
    "            'NumCode': '978',\n",
    "            'Previous': 79.6765,\n",
    "            'Value': 79.4966\n",
    "        }\n",
    "        \n",
    "        Rate('value').make_format('EUR')\n",
    "        79.4966\n",
    "        \"\"\"\n",
    "        response = self.exchange_rates()\n",
    "        \n",
    "        if currency in response:\n",
    "            if self.format == 'full':\n",
    "                return response[currency]\n",
    "            \n",
    "            if self.format == 'value':\n",
    "                return response[currency]['Value']\n",
    "        \n",
    "        return 'Error'\n",
    "    \n",
    "    def eur(self):\n",
    "        \"\"\"Возвращает курс евро на сегодня в формате self.format\"\"\"\n",
    "        return self.make_format('EUR')\n",
    "    \n",
    "    def usd(self):\n",
    "        \"\"\"Возвращает курс доллара на сегодня в формате self.format\"\"\"\n",
    "        return self.make_format('USD')\n",
    "   \n",
    "    def maxvalue(self):\n",
    "        self.exchange_rates()\n",
    "    "
   ]
  },
  {
   "cell_type": "code",
   "execution_count": 322,
   "metadata": {},
   "outputs": [
    {
     "name": "stdout",
     "output_type": "stream",
     "text": [
      "{'AUD': 45.0833, 'AZN': 38.9025, 'GBP': 81.1711, 'AMD': 13.8433, 'BYN': 31.2906, 'BGN': 37.266, 'BRL': 16.0669, 'HUF': 22.1107, 'HKD': 84.1898, 'DKK': 97.6968, 'USD': 65.9981, 'EUR': 72.8883, 'INR': 92.0797, 'KZT': 17.0043, 'CAD': 49.9872, 'KGS': 94.2834, 'CNY': 92.6302, 'MDL': 36.9427, 'NOK': 73.3239, 'PLN': 16.7951, 'RON': 15.3967, 'XDR': 90.4286, 'SGD': 47.7382, 'TJS': 68.1095, 'TRY': 11.564, 'TMT': 18.8836, 'UZS': 70.2107, 'UAH': 26.3234, 'CZK': 28.2067, 'SEK': 68.1968, 'CHF': 66.7997, 'ZAR': 44.6509, 'KRW': 55.2355, 'JPY': 61.6603}\n",
      "DKK 97.6968\n"
     ]
    }
   ],
   "source": [
    "def fun():\n",
    "    r = requests.get('https://www.cbr-xml-daily.ru/daily_json.js')\n",
    "    return r.json()['Valute']\n",
    "a=r.json()\n",
    "val_list=a['Valute']\n",
    "x={}\n",
    "mx = 0\n",
    "k = ''\n",
    "for key, val in val_list.items():\n",
    "    if val['Value'] > mx:\n",
    "        mx = val['Value']\n",
    "        k = key\n",
    "    x.update({key : val['Value']})\n",
    "    \n",
    "print(x)\n",
    "print(k, mx)\n"
   ]
  },
  {
   "cell_type": "code",
   "execution_count": null,
   "metadata": {},
   "outputs": [],
   "source": []
  },
  {
   "cell_type": "code",
   "execution_count": null,
   "metadata": {},
   "outputs": [],
   "source": []
  }
 ],
 "metadata": {
  "kernelspec": {
   "display_name": "Python 3",
   "language": "python",
   "name": "python3"
  },
  "language_info": {
   "codemirror_mode": {
    "name": "ipython",
    "version": 3
   },
   "file_extension": ".py",
   "mimetype": "text/x-python",
   "name": "python",
   "nbconvert_exporter": "python",
   "pygments_lexer": "ipython3",
   "version": "3.7.3"
  }
 },
 "nbformat": 4,
 "nbformat_minor": 2
}
